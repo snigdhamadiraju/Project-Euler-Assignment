{
 "cells": [
  {
   "cell_type": "code",
   "execution_count": 12,
   "metadata": {},
   "outputs": [
    {
     "name": "stdout",
     "output_type": "stream",
     "text": [
      "233168\n"
     ]
    }
   ],
   "source": [
    "# Problem #1 - Multiples of 3 and 5\n",
    "\n",
    "x = 0 \n",
    "total = 0 \n",
    "for x in range (1,1000):\n",
    "    if x % 3 == 0 or x % 5 == 0:\n",
    "        total = total + x\n",
    "print (total)\n",
    "    "
   ]
  },
  {
   "cell_type": "code",
   "execution_count": 19,
   "metadata": {},
   "outputs": [
    {
     "name": "stdout",
     "output_type": "stream",
     "text": [
      "4613732\n"
     ]
    }
   ],
   "source": [
    "# Problem #2 - Even Fibonacci numbers\n",
    "\n",
    "a = 1\n",
    "b = 2\n",
    "total = 0 \n",
    "fibonacci = [a,b]\n",
    "i = 0\n",
    "while fibonacci [i] < 4000000:\n",
    "    fibonacci.append (fibonacci [i+1] + fibonacci [i])\n",
    "    if fibonacci [i] % 2 == 0 :\n",
    "        total = total + fibonacci[i]\n",
    "    i +=1\n",
    "print (total)"
   ]
  },
  {
   "cell_type": "code",
   "execution_count": null,
   "metadata": {},
   "outputs": [],
   "source": [
    "# Problem #3 - Largest prime factor\n",
    "\n"
   ]
  }
 ],
 "metadata": {
  "kernelspec": {
   "display_name": "Python 3",
   "language": "python",
   "name": "python3"
  },
  "language_info": {
   "codemirror_mode": {
    "name": "ipython",
    "version": 3
   },
   "file_extension": ".py",
   "mimetype": "text/x-python",
   "name": "python",
   "nbconvert_exporter": "python",
   "pygments_lexer": "ipython3",
   "version": "3.8.3"
  }
 },
 "nbformat": 4,
 "nbformat_minor": 4
}
